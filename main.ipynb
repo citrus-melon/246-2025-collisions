{
 "cells": [
  {
   "cell_type": "markdown",
   "metadata": {},
   "source": [
    "# 246 2025 Collision Analysis\n",
    "This notebook is used to precisely determine and graph states of the robot superstructure where collisions would occur. This code does not run on the robot, it's simply a data analysis tool utilising the CAD."
   ]
  },
  {
   "cell_type": "code",
   "execution_count": 62,
   "metadata": {},
   "outputs": [],
   "source": [
    "import numpy as np\n",
    "import trimesh\n",
    "from trimesh import Trimesh\n",
    "import pandas as pd\n",
    "import matplotlib.pyplot as plt\n",
    "import matplotlib.patches as mpatches\n",
    "import itertools"
   ]
  },
  {
   "cell_type": "markdown",
   "metadata": {},
   "source": [
    "Go to Onshape > 0000 Full Robot Assembly.\n",
    "\n",
    "Make sure the elevator is at the lowest position and the pivot is at whatever you want to zero point to be. (I used the handoff position, as it was at week zero.)\n",
    "\n",
    "Right click the assembly tab > `Export`. `Format`=`GLTF` and `Resoultion`=`Coarse`. Save the file in this folder."
   ]
  },
  {
   "cell_type": "code",
   "execution_count": 2,
   "metadata": {},
   "outputs": [],
   "source": [
    "scene = trimesh.load_scene('0000 Full Assembly.gltf')"
   ]
  },
  {
   "cell_type": "markdown",
   "metadata": {},
   "source": [
    "Also configure these variables if neccessary:"
   ]
  },
  {
   "cell_type": "code",
   "execution_count": null,
   "metadata": {},
   "outputs": [],
   "source": [
    "# Names of nodes in the CAD\n",
    "axle_node_name = \"Dead Axle Tube - 3/4in - 36in (REV-21-2510)\"\n",
    "drive_node_name = \"1000 Drive Assembly <1>\"\n",
    "stage0_node_name = \"Base <1>\"\n",
    "ramp_node_name = \"5000 Ramp <1>\"\n",
    "stage1_node_name = \"Stage 1 <1>\"\n",
    "endEffector_node_name = \"Coral End Effector Assembly <1>\"\n",
    "stage2_node_name = \"Stage 2 <1>\"\n",
    "\n",
    "# Max extension of each stage of the elevator in inches\n",
    "max_extension_inches = 29\n",
    "\n",
    "# Number of steps in the simulation\n",
    "z_resolution = 360\n",
    "theta_resolution = 360\n",
    "\n",
    "# (z, theta) in inches and degrees\n",
    "setpoints = {\n",
    "    'handoff': (0, 360),\n",
    "    'L2': (0, 360-(180-5.701485)),\n",
    "    'L3': (15.750000/2, 360-(180-5.701485)),\n",
    "    'L4': (53.451516/2, 360-(180+49.298515))\n",
    "}"
   ]
  },
  {
   "cell_type": "markdown",
   "metadata": {},
   "source": [
    "Setup code to pull relevant meshes and information out of the model:"
   ]
  },
  {
   "cell_type": "code",
   "execution_count": 3,
   "metadata": {},
   "outputs": [],
   "source": [
    "# Get the pivot axis of rotation\n",
    "axle_transform = scene.graph.get(axle_node_name)[0]\n",
    "pivot_axis = trimesh.transformations.translation_from_matrix(axle_transform)\n",
    "\n",
    "# Get each moving part as a mesh\n",
    "\n",
    "# chassis\n",
    "drive_mesh = scene.subscene(drive_node_name).apply_transform(scene.graph.get(drive_node_name)[0]).to_mesh()\n",
    "stage0_mesh = scene.subscene(stage0_node_name).apply_transform(scene.graph.get(stage0_node_name)[0]).to_mesh()\n",
    "ramp_mesh = scene.subscene(ramp_node_name).apply_transform(scene.graph.get(ramp_node_name)[0]).to_mesh()\n",
    "chassis_mesh = trimesh.util.concatenate([drive_mesh, stage0_mesh, ramp_mesh])\n",
    "\n",
    "# stage 1\n",
    "stage1_mesh: Trimesh = scene.subscene(stage1_node_name).apply_transform(scene.graph.get(stage1_node_name)[0]).to_mesh()\n",
    "\n",
    "# stage 2\n",
    "endEffector_mesh: Trimesh = scene.subscene(endEffector_node_name).apply_transform(scene.graph.get(endEffector_node_name)[0]).to_mesh()\n",
    "\n",
    "# for visualization\n",
    "stage2_mesh: Trimesh = scene.subscene(stage2_node_name).apply_transform(scene.graph.get(stage2_node_name)[0]).to_mesh()"
   ]
  },
  {
   "cell_type": "markdown",
   "metadata": {},
   "source": [
    "Helper functions for representing robot geometry at a particular state:"
   ]
  },
  {
   "cell_type": "code",
   "execution_count": 4,
   "metadata": {},
   "outputs": [],
   "source": [
    "def get_transforms_for_state(z, theta):\n",
    "    stage1_transform = trimesh.transformations.translation_matrix([0, 0, z])\n",
    "    stage2_transform = trimesh.transformations.translation_matrix([0, 0, 2*z])\n",
    "    pivot_transform = stage2_transform @ trimesh.transformations.rotation_matrix(np.radians(theta), [1, 0, 0], pivot_axis)\n",
    "    return ( stage1_transform, stage2_transform, pivot_transform )\n",
    "\n",
    "def inches_to_meters(inches):\n",
    "    return inches / 39.3701\n",
    "\n",
    "# For visualization purposes\n",
    "def get_scene_for_state(z, theta):\n",
    "    stage1_transform, stage2_transform, pivot_transform = get_transforms_for_state(z=z, theta=theta)\n",
    "    s = trimesh.Scene([chassis_mesh])\n",
    "    s.add_geometry(stage1_mesh, transform=stage1_transform)\n",
    "    s.add_geometry(stage2_mesh, transform=stage2_transform)\n",
    "    s.add_geometry(endEffector_mesh, transform=pivot_transform)\n",
    "    return s"
   ]
  },
  {
   "cell_type": "markdown",
   "metadata": {},
   "source": [
    "Sanity check: Let's show what the robot should look like at L2"
   ]
  },
  {
   "cell_type": "code",
   "execution_count": null,
   "metadata": {},
   "outputs": [],
   "source": [
    "# Sanity check\n",
    "get_scene_for_state(z=inches_to_meters(setpoints['L4'][0]), theta=setpoints['L4'][1]).show()\n",
    "# get_scene_for_state(z=inches_to_meters(0), theta=45).show(viewer='gl')"
   ]
  },
  {
   "cell_type": "markdown",
   "metadata": {},
   "source": [
    "Set up for the simulation:"
   ]
  },
  {
   "cell_type": "code",
   "execution_count": null,
   "metadata": {},
   "outputs": [],
   "source": [
    "endEffector_collisionManager = trimesh.collision.CollisionManager()\n",
    "endEffector_collisionManager.add_object(\"endEffector\", endEffector_mesh)\n",
    "\n",
    "chassis_collisionManager = trimesh.collision.CollisionManager()\n",
    "chassis_collisionManager.add_object(\"chassis\", chassis_mesh)\n",
    "\n",
    "stage1_collisionManager = trimesh.collision.CollisionManager()\n",
    "stage1_collisionManager.add_object(\"stage1\", stage1_mesh)"
   ]
  },
  {
   "cell_type": "markdown",
   "metadata": {},
   "source": [
    "Now, we can iterate through potential states to check for collisions:"
   ]
  },
  {
   "cell_type": "code",
   "execution_count": 6,
   "metadata": {},
   "outputs": [],
   "source": [
    "results = []\n",
    "\n",
    "for z in np.linspace(0, inches_to_meters(max_extension_inches), z_resolution):\n",
    "    for theta in np.linspace(0, 360, theta_resolution):\n",
    "        stage1_transform, stage2_transform, pivot_transform = get_transforms_for_state(z=z, theta=theta)\n",
    "        stage1_collisionManager.set_transform(\"stage1\", stage1_transform)\n",
    "        endEffector_collisionManager.set_transform(\"endEffector\", pivot_transform)\n",
    "        chassis_collision = endEffector_collisionManager.in_collision_other(chassis_collisionManager)\n",
    "        stage1_collision = endEffector_collisionManager.in_collision_other(stage1_collisionManager)\n",
    "        results.append(dict(z=z, theta=theta, chassis_collision=chassis_collision, stage1_collision=stage1_collision))\n",
    "\n",
    "results = pd.DataFrame(results)"
   ]
  },
  {
   "cell_type": "markdown",
   "metadata": {},
   "source": [
    "And plot the results!"
   ]
  },
  {
   "cell_type": "code",
   "execution_count": null,
   "metadata": {},
   "outputs": [],
   "source": [
    "fig = plt.figure()\n",
    "plt.imshow(results.pivot(columns=\"z\", index=\"theta\", values=\"chassis_collision\"), cmap='Reds', aspect='auto', extent=[0, max_extension_inches, 360, 0])\n",
    "plt.imshow(results.pivot(columns=\"z\", index=\"theta\", values=\"stage1_collision\"), cmap='Blues', alpha=.5, aspect='auto', extent=[0, max_extension_inches, 360, 0])\n",
    "plt.xlabel(\"z -- elevator stage 1 extension (inches)\")\n",
    "plt.ylabel(\"theta -- pivot angle (degrees)\")\n",
    "fig.legend(handles=[\n",
    "    mpatches.Patch(color='red', label='Ramp/Stage 0 Collision', alpha=0.5),\n",
    "    mpatches.Patch(color='blue', label='Stage 1 Collision', alpha=0.5)\n",
    "])\n",
    "\n",
    "# Annotate the figure with setpoints\n",
    "for label, (z, theta) in setpoints.items():\n",
    "    plt.plot(z, theta, color='black', marker='o')\n",
    "    plt.annotate(label, (z, theta), textcoords=\"offset points\", xytext=(10,-10))\n",
    "\n",
    "for pair in itertools.combinations(setpoints.values(), 2): # draw lines between setpoints\n",
    "    plt.plot(*zip(*pair), color='black', linestyle='--')"
   ]
  }
 ],
 "metadata": {
  "kernelspec": {
   "display_name": "venv",
   "language": "python",
   "name": "python3"
  },
  "language_info": {
   "codemirror_mode": {
    "name": "ipython",
    "version": 3
   },
   "file_extension": ".py",
   "mimetype": "text/x-python",
   "name": "python",
   "nbconvert_exporter": "python",
   "pygments_lexer": "ipython3",
   "version": "3.13.1"
  }
 },
 "nbformat": 4,
 "nbformat_minor": 2
}
